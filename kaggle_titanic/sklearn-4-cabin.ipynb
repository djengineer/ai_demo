{
 "cells": [
  {
   "cell_type": "code",
   "execution_count": 1,
   "metadata": {},
   "outputs": [],
   "source": [
    "\n",
    "import numpy as np # linear algebra\n",
    "import pandas as pd # data processing, CSV file I/O (e.g. pd.read_csv)\n",
    "\n",
    "\n",
    "from sklearn.neural_network import MLPClassifier, MLPRegressor\n",
    "from sklearn.model_selection import train_test_split\n",
    "from sklearn.metrics import accuracy_score\n",
    "from sklearn.metrics import r2_score\n",
    "from sklearn.metrics import confusion_matrix\n",
    "import matplotlib\n",
    "import random"
   ]
  },
  {
   "cell_type": "code",
   "execution_count": 2,
   "metadata": {},
   "outputs": [
    {
     "data": {
      "text/html": [
       "<div>\n",
       "<style scoped>\n",
       "    .dataframe tbody tr th:only-of-type {\n",
       "        vertical-align: middle;\n",
       "    }\n",
       "\n",
       "    .dataframe tbody tr th {\n",
       "        vertical-align: top;\n",
       "    }\n",
       "\n",
       "    .dataframe thead th {\n",
       "        text-align: right;\n",
       "    }\n",
       "</style>\n",
       "<table border=\"1\" class=\"dataframe\">\n",
       "  <thead>\n",
       "    <tr style=\"text-align: right;\">\n",
       "      <th></th>\n",
       "      <th>PassengerId</th>\n",
       "      <th>Survived</th>\n",
       "      <th>Pclass</th>\n",
       "      <th>Name</th>\n",
       "      <th>Sex</th>\n",
       "      <th>Age</th>\n",
       "      <th>SibSp</th>\n",
       "      <th>Parch</th>\n",
       "      <th>Ticket</th>\n",
       "      <th>Fare</th>\n",
       "      <th>Cabin</th>\n",
       "      <th>Embarked</th>\n",
       "    </tr>\n",
       "  </thead>\n",
       "  <tbody>\n",
       "    <tr>\n",
       "      <th>0</th>\n",
       "      <td>1</td>\n",
       "      <td>0</td>\n",
       "      <td>3</td>\n",
       "      <td>Braund, Mr. Owen Harris</td>\n",
       "      <td>male</td>\n",
       "      <td>22.0</td>\n",
       "      <td>1</td>\n",
       "      <td>0</td>\n",
       "      <td>A/5 21171</td>\n",
       "      <td>7.2500</td>\n",
       "      <td>NaN</td>\n",
       "      <td>S</td>\n",
       "    </tr>\n",
       "    <tr>\n",
       "      <th>1</th>\n",
       "      <td>2</td>\n",
       "      <td>1</td>\n",
       "      <td>1</td>\n",
       "      <td>Cumings, Mrs. John Bradley (Florence Briggs Th...</td>\n",
       "      <td>female</td>\n",
       "      <td>38.0</td>\n",
       "      <td>1</td>\n",
       "      <td>0</td>\n",
       "      <td>PC 17599</td>\n",
       "      <td>71.2833</td>\n",
       "      <td>C85</td>\n",
       "      <td>C</td>\n",
       "    </tr>\n",
       "    <tr>\n",
       "      <th>2</th>\n",
       "      <td>3</td>\n",
       "      <td>1</td>\n",
       "      <td>3</td>\n",
       "      <td>Heikkinen, Miss. Laina</td>\n",
       "      <td>female</td>\n",
       "      <td>26.0</td>\n",
       "      <td>0</td>\n",
       "      <td>0</td>\n",
       "      <td>STON/O2. 3101282</td>\n",
       "      <td>7.9250</td>\n",
       "      <td>NaN</td>\n",
       "      <td>S</td>\n",
       "    </tr>\n",
       "    <tr>\n",
       "      <th>3</th>\n",
       "      <td>4</td>\n",
       "      <td>1</td>\n",
       "      <td>1</td>\n",
       "      <td>Futrelle, Mrs. Jacques Heath (Lily May Peel)</td>\n",
       "      <td>female</td>\n",
       "      <td>35.0</td>\n",
       "      <td>1</td>\n",
       "      <td>0</td>\n",
       "      <td>113803</td>\n",
       "      <td>53.1000</td>\n",
       "      <td>C123</td>\n",
       "      <td>S</td>\n",
       "    </tr>\n",
       "    <tr>\n",
       "      <th>4</th>\n",
       "      <td>5</td>\n",
       "      <td>0</td>\n",
       "      <td>3</td>\n",
       "      <td>Allen, Mr. William Henry</td>\n",
       "      <td>male</td>\n",
       "      <td>35.0</td>\n",
       "      <td>0</td>\n",
       "      <td>0</td>\n",
       "      <td>373450</td>\n",
       "      <td>8.0500</td>\n",
       "      <td>NaN</td>\n",
       "      <td>S</td>\n",
       "    </tr>\n",
       "  </tbody>\n",
       "</table>\n",
       "</div>"
      ],
      "text/plain": [
       "   PassengerId  Survived  Pclass  \\\n",
       "0            1         0       3   \n",
       "1            2         1       1   \n",
       "2            3         1       3   \n",
       "3            4         1       1   \n",
       "4            5         0       3   \n",
       "\n",
       "                                                Name     Sex   Age  SibSp  \\\n",
       "0                            Braund, Mr. Owen Harris    male  22.0      1   \n",
       "1  Cumings, Mrs. John Bradley (Florence Briggs Th...  female  38.0      1   \n",
       "2                             Heikkinen, Miss. Laina  female  26.0      0   \n",
       "3       Futrelle, Mrs. Jacques Heath (Lily May Peel)  female  35.0      1   \n",
       "4                           Allen, Mr. William Henry    male  35.0      0   \n",
       "\n",
       "   Parch            Ticket     Fare Cabin Embarked  \n",
       "0      0         A/5 21171   7.2500   NaN        S  \n",
       "1      0          PC 17599  71.2833   C85        C  \n",
       "2      0  STON/O2. 3101282   7.9250   NaN        S  \n",
       "3      0            113803  53.1000  C123        S  \n",
       "4      0            373450   8.0500   NaN        S  "
      ]
     },
     "execution_count": 2,
     "metadata": {},
     "output_type": "execute_result"
    }
   ],
   "source": [
    "df = pd.read_csv('train.csv')\n",
    "df.head()"
   ]
  },
  {
   "cell_type": "code",
   "execution_count": 3,
   "metadata": {},
   "outputs": [
    {
     "data": {
      "text/plain": [
       "PassengerId    891\n",
       "Survived       891\n",
       "Pclass         891\n",
       "Name           891\n",
       "Sex            891\n",
       "Age            714\n",
       "SibSp          891\n",
       "Parch          891\n",
       "Ticket         891\n",
       "Fare           891\n",
       "Cabin          204\n",
       "Embarked       889\n",
       "dtype: int64"
      ]
     },
     "execution_count": 3,
     "metadata": {},
     "output_type": "execute_result"
    }
   ],
   "source": [
    "df.count()"
   ]
  },
  {
   "cell_type": "code",
   "execution_count": 4,
   "metadata": {},
   "outputs": [
    {
     "data": {
      "text/html": [
       "<div>\n",
       "<style scoped>\n",
       "    .dataframe tbody tr th:only-of-type {\n",
       "        vertical-align: middle;\n",
       "    }\n",
       "\n",
       "    .dataframe tbody tr th {\n",
       "        vertical-align: top;\n",
       "    }\n",
       "\n",
       "    .dataframe thead th {\n",
       "        text-align: right;\n",
       "    }\n",
       "</style>\n",
       "<table border=\"1\" class=\"dataframe\">\n",
       "  <thead>\n",
       "    <tr style=\"text-align: right;\">\n",
       "      <th></th>\n",
       "      <th>Survived</th>\n",
       "      <th>Pclass</th>\n",
       "      <th>Sex</th>\n",
       "      <th>Age</th>\n",
       "      <th>SibSp</th>\n",
       "      <th>Parch</th>\n",
       "      <th>Fare</th>\n",
       "      <th>Cabin</th>\n",
       "      <th>Embarked</th>\n",
       "    </tr>\n",
       "  </thead>\n",
       "  <tbody>\n",
       "    <tr>\n",
       "      <th>886</th>\n",
       "      <td>0</td>\n",
       "      <td>2</td>\n",
       "      <td>0</td>\n",
       "      <td>27.0</td>\n",
       "      <td>0</td>\n",
       "      <td>0</td>\n",
       "      <td>13.00</td>\n",
       "      <td>NaN</td>\n",
       "      <td>0.0</td>\n",
       "    </tr>\n",
       "    <tr>\n",
       "      <th>887</th>\n",
       "      <td>1</td>\n",
       "      <td>1</td>\n",
       "      <td>1</td>\n",
       "      <td>19.0</td>\n",
       "      <td>0</td>\n",
       "      <td>0</td>\n",
       "      <td>30.00</td>\n",
       "      <td>B42</td>\n",
       "      <td>0.0</td>\n",
       "    </tr>\n",
       "    <tr>\n",
       "      <th>888</th>\n",
       "      <td>0</td>\n",
       "      <td>3</td>\n",
       "      <td>1</td>\n",
       "      <td>NaN</td>\n",
       "      <td>1</td>\n",
       "      <td>2</td>\n",
       "      <td>23.45</td>\n",
       "      <td>NaN</td>\n",
       "      <td>0.0</td>\n",
       "    </tr>\n",
       "    <tr>\n",
       "      <th>889</th>\n",
       "      <td>1</td>\n",
       "      <td>1</td>\n",
       "      <td>0</td>\n",
       "      <td>26.0</td>\n",
       "      <td>0</td>\n",
       "      <td>0</td>\n",
       "      <td>30.00</td>\n",
       "      <td>C148</td>\n",
       "      <td>1.0</td>\n",
       "    </tr>\n",
       "    <tr>\n",
       "      <th>890</th>\n",
       "      <td>0</td>\n",
       "      <td>3</td>\n",
       "      <td>0</td>\n",
       "      <td>32.0</td>\n",
       "      <td>0</td>\n",
       "      <td>0</td>\n",
       "      <td>7.75</td>\n",
       "      <td>NaN</td>\n",
       "      <td>1.0</td>\n",
       "    </tr>\n",
       "  </tbody>\n",
       "</table>\n",
       "</div>"
      ],
      "text/plain": [
       "     Survived  Pclass  Sex   Age  SibSp  Parch   Fare Cabin  Embarked\n",
       "886         0       2    0  27.0      0      0  13.00   NaN       0.0\n",
       "887         1       1    1  19.0      0      0  30.00   B42       0.0\n",
       "888         0       3    1   NaN      1      2  23.45   NaN       0.0\n",
       "889         1       1    0  26.0      0      0  30.00  C148       1.0\n",
       "890         0       3    0  32.0      0      0   7.75   NaN       1.0"
      ]
     },
     "execution_count": 4,
     "metadata": {},
     "output_type": "execute_result"
    }
   ],
   "source": [
    "df['Sex'].replace('male',0,inplace=True)\n",
    "df['Sex'].replace('female',1,inplace=True)\n",
    "df = df.drop([\"Ticket\",\"Name\",\"PassengerId\"],axis=1)\n",
    "df['Embarked'].replace('S',int(0),inplace=True)\n",
    "df['Embarked'].replace('C',int(1),inplace=True)\n",
    "df['Embarked'].replace('Q',int(1),inplace=True)\n",
    "\n",
    "df.tail()"
   ]
  },
  {
   "cell_type": "code",
   "execution_count": 5,
   "metadata": {},
   "outputs": [],
   "source": [
    "# Add cabin into the feature set\n",
    "\n",
    "df[\"Cabin\"].fillna(0,inplace=True)\n",
    "df['Cabin'] = df['Cabin'].astype(str)\n",
    "df['Cabin'] = df.Cabin.str.replace(r'([A].*$)',\"1\")\n",
    "df['Cabin'] = df.Cabin.str.replace(r'([B].*$)',\"2\")\n",
    "df['Cabin'] = df.Cabin.str.replace(r'([C].*$)',\"3\")\n",
    "df['Cabin'] = df.Cabin.str.replace(r'([D].*$)',\"4\")\n",
    "df['Cabin'] = df.Cabin.str.replace(r'([E].*$)',\"5\")\n",
    "df['Cabin'] = df.Cabin.str.replace(r'([F].*$)',\"6\")\n",
    "df['Cabin'] = df.Cabin.str.replace(r'([G].*$)',\"7\")\n",
    "df['Cabin'] = df.Cabin.str.replace(r'([T].*$)',\"8\")\n",
    "df['Cabin'] = df['Cabin'].astype(int)\n"
   ]
  },
  {
   "cell_type": "code",
   "execution_count": 6,
   "metadata": {},
   "outputs": [
    {
     "data": {
      "text/plain": [
       "Survived    891\n",
       "Pclass      891\n",
       "Sex         891\n",
       "Age         891\n",
       "SibSp       891\n",
       "Parch       891\n",
       "Fare        891\n",
       "Cabin       891\n",
       "Embarked    889\n",
       "dtype: int64"
      ]
     },
     "execution_count": 6,
     "metadata": {},
     "output_type": "execute_result"
    }
   ],
   "source": [
    "# after cabin is filled, we need to fill age\n",
    "mean_age = df[\"Age\"].mean()\n",
    "std_age = df[\"Age\"].std()\n",
    "df[\"Age\"] = df[\"Age\"].fillna(random.randint(int(std_age),int(mean_age)))\n",
    "df.count()"
   ]
  },
  {
   "cell_type": "code",
   "execution_count": 7,
   "metadata": {},
   "outputs": [
    {
     "data": {
      "text/plain": [
       "Survived    891\n",
       "Pclass      891\n",
       "Sex         891\n",
       "Age         891\n",
       "SibSp       891\n",
       "Parch       891\n",
       "Fare        891\n",
       "Cabin       891\n",
       "Embarked    891\n",
       "dtype: int64"
      ]
     },
     "execution_count": 7,
     "metadata": {},
     "output_type": "execute_result"
    }
   ],
   "source": [
    "# Embarked is still missing. need to fill\n",
    "mean_em = df[\"Embarked\"].mean()\n",
    "std_em = df[\"Embarked\"].std()\n",
    "df[\"Embarked\"] = df[\"Embarked\"].fillna(random.randint(int(std_em),int(mean_em)))\n",
    "df.count()"
   ]
  },
  {
   "cell_type": "code",
   "execution_count": 8,
   "metadata": {},
   "outputs": [],
   "source": [
    "x = df.drop([\"Survived\"],axis=1)\n",
    "y = df[\"Survived\"]\n",
    "\n",
    "# The below is used to split a df into test and train sets.\n",
    "x_train, x_test, y_train, y_test = train_test_split(x,y, test_size= 0.25, random_state=27)\n",
    "\n",
    "def train_model(x_train,y_train,layer_shape,optimizer):\n",
    "    # layer shape is in a python list [20,20,20]\n",
    "    #solver options => solver : {‘lbfgs’, ‘sgd’, ‘adam’}, default ‘adam’\n",
    "    model = MLPClassifier(hidden_layer_sizes=(layer_shape), max_iter=6000, alpha=0.000000001,\n",
    "                         solver=optimizer, verbose=False,random_state=21,tol=0.000000001,learning_rate=\"adaptive\")\n",
    "    model.fit(x_train, y_train)\n",
    "    return model"
   ]
  },
  {
   "cell_type": "code",
   "execution_count": 27,
   "metadata": {},
   "outputs": [
    {
     "data": {
      "text/plain": [
       "pandas.core.series.Series"
      ]
     },
     "execution_count": 27,
     "metadata": {},
     "output_type": "execute_result"
    }
   ],
   "source": [
    "type(y_train)"
   ]
  },
  {
   "cell_type": "code",
   "execution_count": 9,
   "metadata": {},
   "outputs": [
    {
     "data": {
      "text/plain": [
       "0.7982062780269058"
      ]
     },
     "execution_count": 9,
     "metadata": {},
     "output_type": "execute_result"
    }
   ],
   "source": [
    "\n",
    "#optimizer options => solver : {‘lbfgs’, ‘sgd’, ‘adam’}, default ‘adam’ for MLPClassifier and regressor\n",
    "optimizer = 'adam'\n",
    "layer_shape = [30,30]\n",
    "model = train_model(x_train,y_train,layer_shape,optimizer)\n",
    "y_pred = model.predict(x_test)\n",
    "## accuracy_score(y_true, y_pred, normalize=True, sample_weight=None)\n",
    "accuracy_score(y_test,y_pred)"
   ]
  },
  {
   "cell_type": "code",
   "execution_count": 10,
   "metadata": {},
   "outputs": [
    {
     "data": {
      "text/plain": [
       "Pclass      418\n",
       "Sex         418\n",
       "Age         418\n",
       "SibSp       418\n",
       "Parch       418\n",
       "Fare        418\n",
       "Cabin       418\n",
       "Embarked    418\n",
       "dtype: int64"
      ]
     },
     "execution_count": 10,
     "metadata": {},
     "output_type": "execute_result"
    }
   ],
   "source": [
    "## Test data\n",
    "# to use on the prediction, not testing accuracy\n",
    "test_df_full= pd.read_csv('test.csv')\n",
    "passenger_ids = test_df_full[\"PassengerId\"]\n",
    "test_df = test_df_full.drop([\"PassengerId\",\"Name\",\"Ticket\"],axis=1)\n",
    "## check for NaN values with test_df[\"Embarked\"].isnull().values.any()\n",
    "## Age and Fare are missing some values.\n",
    "## We will use a random number between standard variation and mean to fill the NaN values\n",
    "test_df['Sex'].replace('male',0,inplace=True)\n",
    "test_df['Sex'].replace('female',1,inplace=True)\n",
    "test_df['Embarked'].replace('S',0,inplace=True)\n",
    "test_df['Embarked'].replace('C',1,inplace=True)\n",
    "test_df['Embarked'].replace('Q',1,inplace=True)\n",
    "test_df[\"Cabin\"].fillna(0,inplace=True)\n",
    "test_df['Cabin'] = test_df['Cabin'].astype(str)\n",
    "test_df['Cabin'] = test_df.Cabin.str.replace(r'([A].*$)',\"1\")\n",
    "test_df['Cabin'] = test_df.Cabin.str.replace(r'([B].*$)',\"2\")\n",
    "test_df['Cabin'] = test_df.Cabin.str.replace(r'([C].*$)',\"3\")\n",
    "test_df['Cabin'] = test_df.Cabin.str.replace(r'([D].*$)',\"4\")\n",
    "test_df['Cabin'] = test_df.Cabin.str.replace(r'([E].*$)',\"5\")\n",
    "test_df['Cabin'] = test_df.Cabin.str.replace(r'([F].*$)',\"6\")\n",
    "test_df['Cabin'] = test_df.Cabin.str.replace(r'([G].*$)',\"7\")\n",
    "test_df['Cabin'] = test_df.Cabin.str.replace(r'([T].*$)',\"8\")\n",
    "test_df['Cabin'] = test_df['Cabin'].astype(int)\n",
    "test_df[\"Age\"] = test_df[\"Age\"].fillna(random.randint(int(std_age),int(mean_age)))\n",
    "fare_std = int(df['Fare'].std())\n",
    "fare_mean = int(df['Fare'].mean())\n",
    "test_df['Fare'] = test_df[\"Fare\"].fillna(random.randint(fare_mean,fare_std))\n",
    "test_df.count()"
   ]
  },
  {
   "cell_type": "code",
   "execution_count": 11,
   "metadata": {},
   "outputs": [],
   "source": [
    "test_x_input = test_df\n",
    "#optimizer options => solver : {‘lbfgs’, ‘sgd’, ‘adam’}, default ‘adam’ for MLPClassifier and regressor\n",
    "optimizer = 'adam'\n",
    "layer_shape = [30,30]\n",
    "test_y_pred = model.predict(test_x_input)\n",
    "## accuracy_score(y_true, y_pred, normalize=True, sample_weight=None)"
   ]
  },
  {
   "cell_type": "code",
   "execution_count": 12,
   "metadata": {},
   "outputs": [],
   "source": [
    "test_df[\"Survived\"] = test_y_pred\n",
    "test_df[\"PassengerId\"] = passenger_ids\n",
    "test_df = test_df.drop([\"Pclass\",\"Sex\",\"Age\",\"SibSp\",\"Parch\",\"Fare\",\"Embarked\",\"Cabin\"],axis=1)\n"
   ]
  },
  {
   "cell_type": "code",
   "execution_count": 13,
   "metadata": {},
   "outputs": [
    {
     "data": {
      "text/plain": [
       "Survived       418\n",
       "PassengerId    418\n",
       "dtype: int64"
      ]
     },
     "execution_count": 13,
     "metadata": {},
     "output_type": "execute_result"
    }
   ],
   "source": [
    "test_df.count()"
   ]
  },
  {
   "cell_type": "code",
   "execution_count": 14,
   "metadata": {},
   "outputs": [],
   "source": [
    "test_df.to_csv('titanic_sklearn__with_cabin_more data.csv', index=False)"
   ]
  },
  {
   "cell_type": "code",
   "execution_count": null,
   "metadata": {},
   "outputs": [],
   "source": []
  }
 ],
 "metadata": {
  "kernelspec": {
   "display_name": "Python 3",
   "language": "python",
   "name": "python3"
  },
  "language_info": {
   "codemirror_mode": {
    "name": "ipython",
    "version": 3
   },
   "file_extension": ".py",
   "mimetype": "text/x-python",
   "name": "python",
   "nbconvert_exporter": "python",
   "pygments_lexer": "ipython3",
   "version": "3.5.2"
  }
 },
 "nbformat": 4,
 "nbformat_minor": 2
}
