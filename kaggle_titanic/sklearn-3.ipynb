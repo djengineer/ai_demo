{
 "cells": [
  {
   "cell_type": "markdown",
   "metadata": {},
   "source": [
    "# Use NN to fill empty data for Age and Fare"
   ]
  },
  {
   "cell_type": "code",
   "execution_count": 1,
   "metadata": {},
   "outputs": [],
   "source": [
    "\n",
    "import numpy as np # linear algebra\n",
    "import pandas as pd # data processing, CSV file I/O (e.g. pd.read_csv)\n",
    "\n",
    "\n",
    "from sklearn.neural_network import MLPClassifier, MLPRegressor\n",
    "from sklearn.model_selection import train_test_split\n",
    "from sklearn.metrics import accuracy_score\n",
    "from sklearn.metrics import r2_score\n",
    "from sklearn.metrics import confusion_matrix\n",
    "import matplotlib\n",
    "import random"
   ]
  },
  {
   "cell_type": "code",
   "execution_count": 2,
   "metadata": {},
   "outputs": [],
   "source": [
    "train_url = 'train.csv'\n",
    "gender_submission_url = 'gender_submission.csv'\n",
    "test_url = 'test.csv'"
   ]
  },
  {
   "cell_type": "code",
   "execution_count": 3,
   "metadata": {},
   "outputs": [
    {
     "data": {
      "text/html": [
       "<div>\n",
       "<style scoped>\n",
       "    .dataframe tbody tr th:only-of-type {\n",
       "        vertical-align: middle;\n",
       "    }\n",
       "\n",
       "    .dataframe tbody tr th {\n",
       "        vertical-align: top;\n",
       "    }\n",
       "\n",
       "    .dataframe thead th {\n",
       "        text-align: right;\n",
       "    }\n",
       "</style>\n",
       "<table border=\"1\" class=\"dataframe\">\n",
       "  <thead>\n",
       "    <tr style=\"text-align: right;\">\n",
       "      <th></th>\n",
       "      <th>PassengerId</th>\n",
       "      <th>Survived</th>\n",
       "      <th>Pclass</th>\n",
       "      <th>Name</th>\n",
       "      <th>Sex</th>\n",
       "      <th>Age</th>\n",
       "      <th>SibSp</th>\n",
       "      <th>Parch</th>\n",
       "      <th>Ticket</th>\n",
       "      <th>Fare</th>\n",
       "      <th>Cabin</th>\n",
       "      <th>Embarked</th>\n",
       "    </tr>\n",
       "  </thead>\n",
       "  <tbody>\n",
       "    <tr>\n",
       "      <th>0</th>\n",
       "      <td>1</td>\n",
       "      <td>0</td>\n",
       "      <td>3</td>\n",
       "      <td>Braund, Mr. Owen Harris</td>\n",
       "      <td>male</td>\n",
       "      <td>22.0</td>\n",
       "      <td>1</td>\n",
       "      <td>0</td>\n",
       "      <td>A/5 21171</td>\n",
       "      <td>7.2500</td>\n",
       "      <td>NaN</td>\n",
       "      <td>S</td>\n",
       "    </tr>\n",
       "    <tr>\n",
       "      <th>1</th>\n",
       "      <td>2</td>\n",
       "      <td>1</td>\n",
       "      <td>1</td>\n",
       "      <td>Cumings, Mrs. John Bradley (Florence Briggs Th...</td>\n",
       "      <td>female</td>\n",
       "      <td>38.0</td>\n",
       "      <td>1</td>\n",
       "      <td>0</td>\n",
       "      <td>PC 17599</td>\n",
       "      <td>71.2833</td>\n",
       "      <td>C85</td>\n",
       "      <td>C</td>\n",
       "    </tr>\n",
       "    <tr>\n",
       "      <th>2</th>\n",
       "      <td>3</td>\n",
       "      <td>1</td>\n",
       "      <td>3</td>\n",
       "      <td>Heikkinen, Miss. Laina</td>\n",
       "      <td>female</td>\n",
       "      <td>26.0</td>\n",
       "      <td>0</td>\n",
       "      <td>0</td>\n",
       "      <td>STON/O2. 3101282</td>\n",
       "      <td>7.9250</td>\n",
       "      <td>NaN</td>\n",
       "      <td>S</td>\n",
       "    </tr>\n",
       "    <tr>\n",
       "      <th>3</th>\n",
       "      <td>4</td>\n",
       "      <td>1</td>\n",
       "      <td>1</td>\n",
       "      <td>Futrelle, Mrs. Jacques Heath (Lily May Peel)</td>\n",
       "      <td>female</td>\n",
       "      <td>35.0</td>\n",
       "      <td>1</td>\n",
       "      <td>0</td>\n",
       "      <td>113803</td>\n",
       "      <td>53.1000</td>\n",
       "      <td>C123</td>\n",
       "      <td>S</td>\n",
       "    </tr>\n",
       "    <tr>\n",
       "      <th>4</th>\n",
       "      <td>5</td>\n",
       "      <td>0</td>\n",
       "      <td>3</td>\n",
       "      <td>Allen, Mr. William Henry</td>\n",
       "      <td>male</td>\n",
       "      <td>35.0</td>\n",
       "      <td>0</td>\n",
       "      <td>0</td>\n",
       "      <td>373450</td>\n",
       "      <td>8.0500</td>\n",
       "      <td>NaN</td>\n",
       "      <td>S</td>\n",
       "    </tr>\n",
       "  </tbody>\n",
       "</table>\n",
       "</div>"
      ],
      "text/plain": [
       "   PassengerId  Survived  Pclass  \\\n",
       "0            1         0       3   \n",
       "1            2         1       1   \n",
       "2            3         1       3   \n",
       "3            4         1       1   \n",
       "4            5         0       3   \n",
       "\n",
       "                                                Name     Sex   Age  SibSp  \\\n",
       "0                            Braund, Mr. Owen Harris    male  22.0      1   \n",
       "1  Cumings, Mrs. John Bradley (Florence Briggs Th...  female  38.0      1   \n",
       "2                             Heikkinen, Miss. Laina  female  26.0      0   \n",
       "3       Futrelle, Mrs. Jacques Heath (Lily May Peel)  female  35.0      1   \n",
       "4                           Allen, Mr. William Henry    male  35.0      0   \n",
       "\n",
       "   Parch            Ticket     Fare Cabin Embarked  \n",
       "0      0         A/5 21171   7.2500   NaN        S  \n",
       "1      0          PC 17599  71.2833   C85        C  \n",
       "2      0  STON/O2. 3101282   7.9250   NaN        S  \n",
       "3      0            113803  53.1000  C123        S  \n",
       "4      0            373450   8.0500   NaN        S  "
      ]
     },
     "execution_count": 3,
     "metadata": {},
     "output_type": "execute_result"
    }
   ],
   "source": [
    "df = pd.read_csv(train_url)\n",
    "df.head()"
   ]
  },
  {
   "cell_type": "markdown",
   "metadata": {},
   "source": [
    "### Let's look more closely at the data"
   ]
  },
  {
   "cell_type": "code",
   "execution_count": 4,
   "metadata": {},
   "outputs": [
    {
     "name": "stdout",
     "output_type": "stream",
     "text": [
      "There are 891 pieces of passenger data (by PassengerId)\n",
      "-------\n",
      "There are 216 people in upper social class\n",
      "There are 184 people in middle social class\n",
      "There are 491 people in lower social class\n",
      "-------\n",
      "There are 608 people with no siblings or spouses aboard\n",
      "There are 283 people with siblings or spouses aboard\n",
      "-------\n"
     ]
    }
   ],
   "source": [
    "print('There are',df['PassengerId'].count(),'pieces of passenger data (by PassengerId)')\n",
    "print('-------')\n",
    "print('There are',df[df[\"Pclass\"]==1]['Pclass'].count(),'people in upper social class')\n",
    "print('There are',df[df[\"Pclass\"]==2]['Pclass'].count(),'people in middle social class')\n",
    "print('There are',df[df[\"Pclass\"]==3]['Pclass'].count(),'people in lower social class')\n",
    "print('-------')\n",
    "print('There are',df[df[\"SibSp\"]==0]['SibSp'].count(),'people with no siblings or spouses aboard')\n",
    "print('There are',df[df[\"SibSp\"]>=1]['SibSp'].count(),'people with siblings or spouses aboard')\n",
    "print('-------')"
   ]
  },
  {
   "cell_type": "markdown",
   "metadata": {},
   "source": [
    "## Now to clean the data"
   ]
  },
  {
   "cell_type": "markdown",
   "metadata": {},
   "source": [
    "Change Gender male to 0, female to 1"
   ]
  },
  {
   "cell_type": "code",
   "execution_count": 5,
   "metadata": {},
   "outputs": [
    {
     "data": {
      "text/html": [
       "<div>\n",
       "<style scoped>\n",
       "    .dataframe tbody tr th:only-of-type {\n",
       "        vertical-align: middle;\n",
       "    }\n",
       "\n",
       "    .dataframe tbody tr th {\n",
       "        vertical-align: top;\n",
       "    }\n",
       "\n",
       "    .dataframe thead th {\n",
       "        text-align: right;\n",
       "    }\n",
       "</style>\n",
       "<table border=\"1\" class=\"dataframe\">\n",
       "  <thead>\n",
       "    <tr style=\"text-align: right;\">\n",
       "      <th></th>\n",
       "      <th>PassengerId</th>\n",
       "      <th>Survived</th>\n",
       "      <th>Pclass</th>\n",
       "      <th>Name</th>\n",
       "      <th>Sex</th>\n",
       "      <th>Age</th>\n",
       "      <th>SibSp</th>\n",
       "      <th>Parch</th>\n",
       "      <th>Ticket</th>\n",
       "      <th>Fare</th>\n",
       "      <th>Cabin</th>\n",
       "      <th>Embarked</th>\n",
       "    </tr>\n",
       "  </thead>\n",
       "  <tbody>\n",
       "    <tr>\n",
       "      <th>0</th>\n",
       "      <td>1</td>\n",
       "      <td>0</td>\n",
       "      <td>3</td>\n",
       "      <td>Braund, Mr. Owen Harris</td>\n",
       "      <td>0</td>\n",
       "      <td>22.0</td>\n",
       "      <td>1</td>\n",
       "      <td>0</td>\n",
       "      <td>A/5 21171</td>\n",
       "      <td>7.2500</td>\n",
       "      <td>NaN</td>\n",
       "      <td>S</td>\n",
       "    </tr>\n",
       "    <tr>\n",
       "      <th>1</th>\n",
       "      <td>2</td>\n",
       "      <td>1</td>\n",
       "      <td>1</td>\n",
       "      <td>Cumings, Mrs. John Bradley (Florence Briggs Th...</td>\n",
       "      <td>1</td>\n",
       "      <td>38.0</td>\n",
       "      <td>1</td>\n",
       "      <td>0</td>\n",
       "      <td>PC 17599</td>\n",
       "      <td>71.2833</td>\n",
       "      <td>C85</td>\n",
       "      <td>C</td>\n",
       "    </tr>\n",
       "    <tr>\n",
       "      <th>2</th>\n",
       "      <td>3</td>\n",
       "      <td>1</td>\n",
       "      <td>3</td>\n",
       "      <td>Heikkinen, Miss. Laina</td>\n",
       "      <td>1</td>\n",
       "      <td>26.0</td>\n",
       "      <td>0</td>\n",
       "      <td>0</td>\n",
       "      <td>STON/O2. 3101282</td>\n",
       "      <td>7.9250</td>\n",
       "      <td>NaN</td>\n",
       "      <td>S</td>\n",
       "    </tr>\n",
       "    <tr>\n",
       "      <th>3</th>\n",
       "      <td>4</td>\n",
       "      <td>1</td>\n",
       "      <td>1</td>\n",
       "      <td>Futrelle, Mrs. Jacques Heath (Lily May Peel)</td>\n",
       "      <td>1</td>\n",
       "      <td>35.0</td>\n",
       "      <td>1</td>\n",
       "      <td>0</td>\n",
       "      <td>113803</td>\n",
       "      <td>53.1000</td>\n",
       "      <td>C123</td>\n",
       "      <td>S</td>\n",
       "    </tr>\n",
       "    <tr>\n",
       "      <th>4</th>\n",
       "      <td>5</td>\n",
       "      <td>0</td>\n",
       "      <td>3</td>\n",
       "      <td>Allen, Mr. William Henry</td>\n",
       "      <td>0</td>\n",
       "      <td>35.0</td>\n",
       "      <td>0</td>\n",
       "      <td>0</td>\n",
       "      <td>373450</td>\n",
       "      <td>8.0500</td>\n",
       "      <td>NaN</td>\n",
       "      <td>S</td>\n",
       "    </tr>\n",
       "  </tbody>\n",
       "</table>\n",
       "</div>"
      ],
      "text/plain": [
       "   PassengerId  Survived  Pclass  \\\n",
       "0            1         0       3   \n",
       "1            2         1       1   \n",
       "2            3         1       3   \n",
       "3            4         1       1   \n",
       "4            5         0       3   \n",
       "\n",
       "                                                Name  Sex   Age  SibSp  Parch  \\\n",
       "0                            Braund, Mr. Owen Harris    0  22.0      1      0   \n",
       "1  Cumings, Mrs. John Bradley (Florence Briggs Th...    1  38.0      1      0   \n",
       "2                             Heikkinen, Miss. Laina    1  26.0      0      0   \n",
       "3       Futrelle, Mrs. Jacques Heath (Lily May Peel)    1  35.0      1      0   \n",
       "4                           Allen, Mr. William Henry    0  35.0      0      0   \n",
       "\n",
       "             Ticket     Fare Cabin Embarked  \n",
       "0         A/5 21171   7.2500   NaN        S  \n",
       "1          PC 17599  71.2833   C85        C  \n",
       "2  STON/O2. 3101282   7.9250   NaN        S  \n",
       "3            113803  53.1000  C123        S  \n",
       "4            373450   8.0500   NaN        S  "
      ]
     },
     "execution_count": 5,
     "metadata": {},
     "output_type": "execute_result"
    }
   ],
   "source": [
    "df['Sex'].replace('male',0,inplace=True)\n",
    "df['Sex'].replace('female',1,inplace=True)\n",
    "df.head()"
   ]
  },
  {
   "cell_type": "markdown",
   "metadata": {},
   "source": [
    "We will drop:\n",
    "\n",
    "Ticket, Name, PassengerId \n",
    "\n",
    "as they are probably not important in training the model"
   ]
  },
  {
   "cell_type": "code",
   "execution_count": 6,
   "metadata": {},
   "outputs": [
    {
     "data": {
      "text/html": [
       "<div>\n",
       "<style scoped>\n",
       "    .dataframe tbody tr th:only-of-type {\n",
       "        vertical-align: middle;\n",
       "    }\n",
       "\n",
       "    .dataframe tbody tr th {\n",
       "        vertical-align: top;\n",
       "    }\n",
       "\n",
       "    .dataframe thead th {\n",
       "        text-align: right;\n",
       "    }\n",
       "</style>\n",
       "<table border=\"1\" class=\"dataframe\">\n",
       "  <thead>\n",
       "    <tr style=\"text-align: right;\">\n",
       "      <th></th>\n",
       "      <th>Survived</th>\n",
       "      <th>Pclass</th>\n",
       "      <th>Sex</th>\n",
       "      <th>Age</th>\n",
       "      <th>SibSp</th>\n",
       "      <th>Parch</th>\n",
       "      <th>Fare</th>\n",
       "      <th>Cabin</th>\n",
       "      <th>Embarked</th>\n",
       "    </tr>\n",
       "  </thead>\n",
       "  <tbody>\n",
       "    <tr>\n",
       "      <th>0</th>\n",
       "      <td>0</td>\n",
       "      <td>3</td>\n",
       "      <td>0</td>\n",
       "      <td>22.0</td>\n",
       "      <td>1</td>\n",
       "      <td>0</td>\n",
       "      <td>7.2500</td>\n",
       "      <td>NaN</td>\n",
       "      <td>S</td>\n",
       "    </tr>\n",
       "    <tr>\n",
       "      <th>1</th>\n",
       "      <td>1</td>\n",
       "      <td>1</td>\n",
       "      <td>1</td>\n",
       "      <td>38.0</td>\n",
       "      <td>1</td>\n",
       "      <td>0</td>\n",
       "      <td>71.2833</td>\n",
       "      <td>C85</td>\n",
       "      <td>C</td>\n",
       "    </tr>\n",
       "    <tr>\n",
       "      <th>2</th>\n",
       "      <td>1</td>\n",
       "      <td>3</td>\n",
       "      <td>1</td>\n",
       "      <td>26.0</td>\n",
       "      <td>0</td>\n",
       "      <td>0</td>\n",
       "      <td>7.9250</td>\n",
       "      <td>NaN</td>\n",
       "      <td>S</td>\n",
       "    </tr>\n",
       "    <tr>\n",
       "      <th>3</th>\n",
       "      <td>1</td>\n",
       "      <td>1</td>\n",
       "      <td>1</td>\n",
       "      <td>35.0</td>\n",
       "      <td>1</td>\n",
       "      <td>0</td>\n",
       "      <td>53.1000</td>\n",
       "      <td>C123</td>\n",
       "      <td>S</td>\n",
       "    </tr>\n",
       "    <tr>\n",
       "      <th>4</th>\n",
       "      <td>0</td>\n",
       "      <td>3</td>\n",
       "      <td>0</td>\n",
       "      <td>35.0</td>\n",
       "      <td>0</td>\n",
       "      <td>0</td>\n",
       "      <td>8.0500</td>\n",
       "      <td>NaN</td>\n",
       "      <td>S</td>\n",
       "    </tr>\n",
       "  </tbody>\n",
       "</table>\n",
       "</div>"
      ],
      "text/plain": [
       "   Survived  Pclass  Sex   Age  SibSp  Parch     Fare Cabin Embarked\n",
       "0         0       3    0  22.0      1      0   7.2500   NaN        S\n",
       "1         1       1    1  38.0      1      0  71.2833   C85        C\n",
       "2         1       3    1  26.0      0      0   7.9250   NaN        S\n",
       "3         1       1    1  35.0      1      0  53.1000  C123        S\n",
       "4         0       3    0  35.0      0      0   8.0500   NaN        S"
      ]
     },
     "execution_count": 6,
     "metadata": {},
     "output_type": "execute_result"
    }
   ],
   "source": [
    "df = df.drop([\"Ticket\",\"Name\",\"PassengerId\"],axis=1)\n",
    "df.head()"
   ]
  },
  {
   "cell_type": "markdown",
   "metadata": {},
   "source": [
    "We will remove cabin here for now, because it needs further data manipulation because of their alphabets and  irregular data. We can choose to use Excel or other spreadsheets to view and clean data if we wish.\n",
    "\n",
    "Cabin is important to because it shows us their positions in the ship when Titanic went down at night"
   ]
  },
  {
   "cell_type": "code",
   "execution_count": 7,
   "metadata": {},
   "outputs": [
    {
     "data": {
      "text/html": [
       "<div>\n",
       "<style scoped>\n",
       "    .dataframe tbody tr th:only-of-type {\n",
       "        vertical-align: middle;\n",
       "    }\n",
       "\n",
       "    .dataframe tbody tr th {\n",
       "        vertical-align: top;\n",
       "    }\n",
       "\n",
       "    .dataframe thead th {\n",
       "        text-align: right;\n",
       "    }\n",
       "</style>\n",
       "<table border=\"1\" class=\"dataframe\">\n",
       "  <thead>\n",
       "    <tr style=\"text-align: right;\">\n",
       "      <th></th>\n",
       "      <th>Survived</th>\n",
       "      <th>Pclass</th>\n",
       "      <th>Sex</th>\n",
       "      <th>Age</th>\n",
       "      <th>SibSp</th>\n",
       "      <th>Parch</th>\n",
       "      <th>Fare</th>\n",
       "      <th>Embarked</th>\n",
       "    </tr>\n",
       "  </thead>\n",
       "  <tbody>\n",
       "    <tr>\n",
       "      <th>0</th>\n",
       "      <td>0</td>\n",
       "      <td>3</td>\n",
       "      <td>0</td>\n",
       "      <td>22.0</td>\n",
       "      <td>1</td>\n",
       "      <td>0</td>\n",
       "      <td>7.2500</td>\n",
       "      <td>S</td>\n",
       "    </tr>\n",
       "    <tr>\n",
       "      <th>1</th>\n",
       "      <td>1</td>\n",
       "      <td>1</td>\n",
       "      <td>1</td>\n",
       "      <td>38.0</td>\n",
       "      <td>1</td>\n",
       "      <td>0</td>\n",
       "      <td>71.2833</td>\n",
       "      <td>C</td>\n",
       "    </tr>\n",
       "    <tr>\n",
       "      <th>2</th>\n",
       "      <td>1</td>\n",
       "      <td>3</td>\n",
       "      <td>1</td>\n",
       "      <td>26.0</td>\n",
       "      <td>0</td>\n",
       "      <td>0</td>\n",
       "      <td>7.9250</td>\n",
       "      <td>S</td>\n",
       "    </tr>\n",
       "    <tr>\n",
       "      <th>3</th>\n",
       "      <td>1</td>\n",
       "      <td>1</td>\n",
       "      <td>1</td>\n",
       "      <td>35.0</td>\n",
       "      <td>1</td>\n",
       "      <td>0</td>\n",
       "      <td>53.1000</td>\n",
       "      <td>S</td>\n",
       "    </tr>\n",
       "    <tr>\n",
       "      <th>4</th>\n",
       "      <td>0</td>\n",
       "      <td>3</td>\n",
       "      <td>0</td>\n",
       "      <td>35.0</td>\n",
       "      <td>0</td>\n",
       "      <td>0</td>\n",
       "      <td>8.0500</td>\n",
       "      <td>S</td>\n",
       "    </tr>\n",
       "  </tbody>\n",
       "</table>\n",
       "</div>"
      ],
      "text/plain": [
       "   Survived  Pclass  Sex   Age  SibSp  Parch     Fare Embarked\n",
       "0         0       3    0  22.0      1      0   7.2500        S\n",
       "1         1       1    1  38.0      1      0  71.2833        C\n",
       "2         1       3    1  26.0      0      0   7.9250        S\n",
       "3         1       1    1  35.0      1      0  53.1000        S\n",
       "4         0       3    0  35.0      0      0   8.0500        S"
      ]
     },
     "execution_count": 7,
     "metadata": {},
     "output_type": "execute_result"
    }
   ],
   "source": [
    "df = df.drop([\"Cabin\"],axis=1)\n",
    "df.head()"
   ]
  },
  {
   "cell_type": "markdown",
   "metadata": {},
   "source": [
    "Now the data looks almost clean and all in numerical 'weights'. \n",
    "We will change the emarked to numbers as well\n",
    "\n",
    "Southampton = S = 0,\n",
    "Cherbourg = C = 1,\n",
    "Queenstown = Q = 2"
   ]
  },
  {
   "cell_type": "code",
   "execution_count": 8,
   "metadata": {},
   "outputs": [
    {
     "data": {
      "text/html": [
       "<div>\n",
       "<style scoped>\n",
       "    .dataframe tbody tr th:only-of-type {\n",
       "        vertical-align: middle;\n",
       "    }\n",
       "\n",
       "    .dataframe tbody tr th {\n",
       "        vertical-align: top;\n",
       "    }\n",
       "\n",
       "    .dataframe thead th {\n",
       "        text-align: right;\n",
       "    }\n",
       "</style>\n",
       "<table border=\"1\" class=\"dataframe\">\n",
       "  <thead>\n",
       "    <tr style=\"text-align: right;\">\n",
       "      <th></th>\n",
       "      <th>Survived</th>\n",
       "      <th>Pclass</th>\n",
       "      <th>Sex</th>\n",
       "      <th>Age</th>\n",
       "      <th>SibSp</th>\n",
       "      <th>Parch</th>\n",
       "      <th>Fare</th>\n",
       "      <th>Embarked</th>\n",
       "    </tr>\n",
       "  </thead>\n",
       "  <tbody>\n",
       "    <tr>\n",
       "      <th>0</th>\n",
       "      <td>0</td>\n",
       "      <td>3</td>\n",
       "      <td>0</td>\n",
       "      <td>22.0</td>\n",
       "      <td>1</td>\n",
       "      <td>0</td>\n",
       "      <td>7.2500</td>\n",
       "      <td>0.0</td>\n",
       "    </tr>\n",
       "    <tr>\n",
       "      <th>1</th>\n",
       "      <td>1</td>\n",
       "      <td>1</td>\n",
       "      <td>1</td>\n",
       "      <td>38.0</td>\n",
       "      <td>1</td>\n",
       "      <td>0</td>\n",
       "      <td>71.2833</td>\n",
       "      <td>1.0</td>\n",
       "    </tr>\n",
       "    <tr>\n",
       "      <th>2</th>\n",
       "      <td>1</td>\n",
       "      <td>3</td>\n",
       "      <td>1</td>\n",
       "      <td>26.0</td>\n",
       "      <td>0</td>\n",
       "      <td>0</td>\n",
       "      <td>7.9250</td>\n",
       "      <td>0.0</td>\n",
       "    </tr>\n",
       "    <tr>\n",
       "      <th>3</th>\n",
       "      <td>1</td>\n",
       "      <td>1</td>\n",
       "      <td>1</td>\n",
       "      <td>35.0</td>\n",
       "      <td>1</td>\n",
       "      <td>0</td>\n",
       "      <td>53.1000</td>\n",
       "      <td>0.0</td>\n",
       "    </tr>\n",
       "    <tr>\n",
       "      <th>4</th>\n",
       "      <td>0</td>\n",
       "      <td>3</td>\n",
       "      <td>0</td>\n",
       "      <td>35.0</td>\n",
       "      <td>0</td>\n",
       "      <td>0</td>\n",
       "      <td>8.0500</td>\n",
       "      <td>0.0</td>\n",
       "    </tr>\n",
       "  </tbody>\n",
       "</table>\n",
       "</div>"
      ],
      "text/plain": [
       "   Survived  Pclass  Sex   Age  SibSp  Parch     Fare  Embarked\n",
       "0         0       3    0  22.0      1      0   7.2500       0.0\n",
       "1         1       1    1  38.0      1      0  71.2833       1.0\n",
       "2         1       3    1  26.0      0      0   7.9250       0.0\n",
       "3         1       1    1  35.0      1      0  53.1000       0.0\n",
       "4         0       3    0  35.0      0      0   8.0500       0.0"
      ]
     },
     "execution_count": 8,
     "metadata": {},
     "output_type": "execute_result"
    }
   ],
   "source": [
    "df['Embarked'].replace('S',int(0),inplace=True)\n",
    "df['Embarked'].replace('C',int(1),inplace=True)\n",
    "df['Embarked'].replace('Q',int(1),inplace=True)\n",
    "\n",
    "df.head()"
   ]
  },
  {
   "cell_type": "markdown",
   "metadata": {},
   "source": [
    "We will now correct all rows of data with EMPTY or NaN values\n",
    "\n",
    "Here instead of dropping all NaN values, we should fill \n",
    "the empty values with random numbers between standard deviation and mean\n",
    "\n",
    "use df['Age'].isnull().values.any() to check for empty values"
   ]
  },
  {
   "cell_type": "code",
   "execution_count": 9,
   "metadata": {},
   "outputs": [
    {
     "data": {
      "text/plain": [
       "False"
      ]
     },
     "execution_count": 9,
     "metadata": {},
     "output_type": "execute_result"
    }
   ],
   "source": [
    "## Here instead of dropping all NaN values, we should fill \n",
    "## the empty values with random numbers between standard deviation and mean\n",
    "## use df['Age'].isnull().values.any() to check for empty values\n",
    "## Age, Embarked has empty values\n",
    "# are there any null values in df left?\n",
    "df['Survived'].isnull().values.any()"
   ]
  },
  {
   "cell_type": "code",
   "execution_count": 10,
   "metadata": {},
   "outputs": [
    {
     "data": {
      "text/plain": [
       "False"
      ]
     },
     "execution_count": 10,
     "metadata": {},
     "output_type": "execute_result"
    }
   ],
   "source": [
    "df = df.dropna()\n",
    "# check if any more empty values in df\n",
    "df.isnull().values.any()"
   ]
  },
  {
   "cell_type": "markdown",
   "metadata": {},
   "source": [
    "### NN to fill Age for the final test set"
   ]
  },
  {
   "cell_type": "code",
   "execution_count": 11,
   "metadata": {},
   "outputs": [
    {
     "name": "stdout",
     "output_type": "stream",
     "text": [
      "This Model accuracy score is 0.3221478129529227\n"
     ]
    }
   ],
   "source": [
    "def age_cleaning_model(df,layer_shape):\n",
    "    x = df.drop([\"Age\",\"Survived\"],axis=1)\n",
    "    y = df[\"Age\"]\n",
    "\n",
    "    # The below is used to split a df into test and train sets.\n",
    "    x_train, x_test, y_train, y_test = train_test_split(x,y, test_size= 0.25, random_state=27)\n",
    "    # layer shape is in a python list [20,20,20]\n",
    "    #solver options => solver : {‘lbfgs’, ‘sgd’, ‘adam’}, default ‘adam’\n",
    "    model = MLPRegressor(hidden_layer_sizes=(layer_shape), max_iter=6000, alpha=0.000000001,\n",
    "                         solver=\"adam\", verbose=False,random_state=21,tol=0.000000001,learning_rate=\"adaptive\")\n",
    "    model.fit(x_train, y_train)\n",
    "    y_pred = model.predict(x_test)\n",
    "    acc = r2_score(y_test,y_pred)\n",
    "    print('This Model accuracy score is',str(acc))\n",
    "    return model\n",
    "\n",
    "layer_shape = [30,30,30]\n",
    "age_cleaning_model = age_cleaning_model(df,layer_shape)"
   ]
  },
  {
   "cell_type": "markdown",
   "metadata": {},
   "source": [
    "drop all null from df"
   ]
  },
  {
   "cell_type": "code",
   "execution_count": null,
   "metadata": {},
   "outputs": [],
   "source": []
  },
  {
   "cell_type": "markdown",
   "metadata": {},
   "source": [
    "# Data Analysis and visualization"
   ]
  },
  {
   "cell_type": "code",
   "execution_count": 12,
   "metadata": {},
   "outputs": [],
   "source": [
    "# Age vs survival\n",
    "\n",
    "# the last [\"EMbarked is just to take any of the count number\"]\n",
    "# less than 10 years old\n",
    "y_1_m_s = df[(df[\"Age\"]<10) & (df[\"Sex\"]==0) & (df[\"Survived\"]==1)][\"Embarked\"].count()\n",
    "y_1_m_d = df[(df[\"Age\"]<10) & (df[\"Sex\"]==0) & (df[\"Survived\"]==0)][\"Embarked\"].count()\n",
    "y_1_f_s = df[(df[\"Age\"]<10) & (df[\"Sex\"]==1) & (df[\"Survived\"]==1)][\"Embarked\"].count()\n",
    "y_1_f_d = df[(df[\"Age\"]<10) & (df[\"Sex\"]==1) & (df[\"Survived\"]==0)][\"Embarked\"].count()\n",
    "# >= 10 y/o\n",
    "y_2_m_s = df[(df[\"Age\"]>=10) & (df[\"Age\"]<20) & (df[\"Sex\"]==0) & (df[\"Survived\"]==1)][\"Embarked\"].count()\n",
    "y_2_f_s = df[(df[\"Age\"]>=10) & (df[\"Age\"]<20) & (df[\"Sex\"]==1) & (df[\"Survived\"]==1)][\"Embarked\"].count()\n",
    "y_2_m_d = df[(df[\"Age\"]>=10) & (df[\"Age\"]<20) & (df[\"Sex\"]==0) & (df[\"Survived\"]==0)][\"Embarked\"].count()\n",
    "y_2_f_d = df[(df[\"Age\"]>=10) & (df[\"Age\"]<20) & (df[\"Sex\"]==1) & (df[\"Survived\"]==0)][\"Embarked\"].count()\n",
    "# >= 20 y/o\n",
    "y_3_m_s = df[(df[\"Age\"]>=20) & (df[\"Age\"]<30) & (df[\"Sex\"]==0) & (df[\"Survived\"]==1)][\"Embarked\"].count()\n",
    "y_3_f_s = df[(df[\"Age\"]>=20) & (df[\"Age\"]<30) & (df[\"Sex\"]==1) & (df[\"Survived\"]==1)][\"Embarked\"].count()\n",
    "y_3_m_d = df[(df[\"Age\"]>=20) & (df[\"Age\"]<30) & (df[\"Sex\"]==0) & (df[\"Survived\"]==0)][\"Embarked\"].count()\n",
    "y_3_f_d = df[(df[\"Age\"]>=20) & (df[\"Age\"]<30) & (df[\"Sex\"]==1) & (df[\"Survived\"]==0)][\"Embarked\"].count()\n",
    "# >= 30 y/o\n",
    "y_4_m_s = df[(df[\"Age\"]>=30) & (df[\"Age\"]<40) & (df[\"Sex\"]==0) & (df[\"Survived\"]==1)][\"Embarked\"].count()\n",
    "y_4_f_s = df[(df[\"Age\"]>=30) & (df[\"Age\"]<40) & (df[\"Sex\"]==1) & (df[\"Survived\"]==1)][\"Embarked\"].count()\n",
    "y_4_m_d = df[(df[\"Age\"]>=30) & (df[\"Age\"]<40) & (df[\"Sex\"]==0) & (df[\"Survived\"]==0)][\"Embarked\"].count()\n",
    "y_4_f_d = df[(df[\"Age\"]>=30) & (df[\"Age\"]<40) & (df[\"Sex\"]==1) & (df[\"Survived\"]==0)][\"Embarked\"].count()\n",
    "# >= 40 y/o\n",
    "y_5_m_s = df[(df[\"Age\"]>=40) & (df[\"Age\"]<50) & (df[\"Sex\"]==0) & (df[\"Survived\"]==1)][\"Embarked\"].count()\n",
    "y_5_f_s = df[(df[\"Age\"]>=40) & (df[\"Age\"]<50) & (df[\"Sex\"]==1) & (df[\"Survived\"]==1)][\"Embarked\"].count()\n",
    "y_5_m_d = df[(df[\"Age\"]>=40) & (df[\"Age\"]<50) & (df[\"Sex\"]==0) & (df[\"Survived\"]==0)][\"Embarked\"].count()\n",
    "y_5_f_d = df[(df[\"Age\"]>=40) & (df[\"Age\"]<50) & (df[\"Sex\"]==1) & (df[\"Survived\"]==0)][\"Embarked\"].count()\n",
    "# >= 50 y/o\n",
    "y_6_m_s = df[(df[\"Age\"]>=50) & (df[\"Age\"]<60) & (df[\"Sex\"]==0) & (df[\"Survived\"]==1)][\"Embarked\"].count()\n",
    "y_6_f_s = df[(df[\"Age\"]>=50) & (df[\"Age\"]<60) & (df[\"Sex\"]==1) & (df[\"Survived\"]==1)][\"Embarked\"].count()\n",
    "y_6_m_d = df[(df[\"Age\"]>=50) & (df[\"Age\"]<60) & (df[\"Sex\"]==0) & (df[\"Survived\"]==0)][\"Embarked\"].count()\n",
    "y_6_f_d = df[(df[\"Age\"]>=50) & (df[\"Age\"]<60) & (df[\"Sex\"]==1) & (df[\"Survived\"]==0)][\"Embarked\"].count()\n",
    "# >= 60 y/o\n",
    "y_7_m_s = df[(df[\"Age\"]>=60) & (df[\"Age\"]<70) & (df[\"Sex\"]==0) & (df[\"Survived\"]==1)][\"Embarked\"].count()\n",
    "y_7_f_s = df[(df[\"Age\"]>=60) & (df[\"Age\"]<70) & (df[\"Sex\"]==1) & (df[\"Survived\"]==1)][\"Embarked\"].count()\n",
    "y_7_m_d = df[(df[\"Age\"]>=60) & (df[\"Age\"]<70) & (df[\"Sex\"]==0) & (df[\"Survived\"]==0)][\"Embarked\"].count()\n",
    "y_7_f_d = df[(df[\"Age\"]>=60) & (df[\"Age\"]<70) & (df[\"Sex\"]==1) & (df[\"Survived\"]==0)][\"Embarked\"].count()\n",
    "# >= 70 y/o\n",
    "y_8_m_s = df[(df[\"Age\"]>=70) & (df[\"Sex\"]==0) & (df[\"Survived\"]==1)][\"Embarked\"].count()\n",
    "y_8_f_s = df[(df[\"Age\"]>=70) & (df[\"Sex\"]==1) & (df[\"Survived\"]==1)][\"Embarked\"].count()\n",
    "y_8_m_d = df[(df[\"Age\"]>=70) & (df[\"Sex\"]==0) & (df[\"Survived\"]==0)][\"Embarked\"].count()\n",
    "y_8_f_d = df[(df[\"Age\"]>=70) & (df[\"Sex\"]==1) & (df[\"Survived\"]==0)][\"Embarked\"].count()\n",
    "\n",
    "men_survive = (y_1_m_s ,y_2_m_s ,y_3_m_s ,y_4_m_s, y_5_m_s, y_6_m_s ,y_7_m_s ,y_8_m_s )\n",
    "women_survive = (y_1_f_s ,y_2_f_s ,y_3_f_s ,y_4_f_s, y_5_f_s, y_6_f_s ,y_7_f_s ,y_8_f_s )\n",
    "men_no_survive = (y_1_m_d,y_2_m_d,y_3_m_d,y_4_m_d,y_5_m_d,y_6_m_d,y_7_m_d,y_8_m_d,)\n",
    "women_no_survive = (y_1_f_d,y_2_f_d,y_3_f_d,y_4_f_d,y_5_f_d,y_6_f_d,y_7_f_d,y_8_f_d,)"
   ]
  },
  {
   "cell_type": "code",
   "execution_count": 13,
   "metadata": {},
   "outputs": [
    {
     "data": {
      "text/plain": [
       "<Figure size 1000x500 with 1 Axes>"
      ]
     },
     "metadata": {},
     "output_type": "display_data"
    }
   ],
   "source": [
    "import matplotlib.pyplot as plt\n",
    "import matplotlib.ticker as ticker\n",
    "n_groups = 8\n",
    "fig, ax = plt.subplots(figsize=(10, 5))\n",
    "index = np.arange(n_groups)\n",
    "bar_width = 0.35\n",
    "opacity = 0.4\n",
    "error_config = {'ecolor': '0.3'}\n",
    "\n",
    "rects1 = ax.bar(index, men_survive, bar_width, bottom=None,\n",
    "                alpha=opacity, color='#2db721',\n",
    "                error_kw=error_config,\n",
    "                label='Men Survive')\n",
    "rects2 = ax.bar(index, women_survive, bar_width,bottom=None,\n",
    "                alpha=opacity, color='#adaa1b',\n",
    "                error_kw=error_config,\n",
    "                label='women Survive')\n",
    "rects3 = ax.bar(index+bar_width, men_no_survive, bar_width,bottom=None,\n",
    "                alpha=opacity, color='#000000',\n",
    "                error_kw=error_config,\n",
    "                label=\"Men didn't make it\")\n",
    "rects4 = ax.bar(index+bar_width, women_no_survive, bar_width,bottom=None,\n",
    "                alpha=opacity, color='r',\n",
    "                error_kw=error_config,\n",
    "                label=\"Women didn't make it\")\n",
    "\n",
    "ax.set_xlabel('Age Group')\n",
    "ax.set_ylabel('Count')\n",
    "ax.set_title('Count of Survival by age group and gender')\n",
    "ax.set_xticks(index + bar_width/2)\n",
    "ax.set_xticklabels(('<10', '>=10', '>=20', '>=30', '>=40', '>=50', '>=60', '>=70'),fontsize=12)\n",
    "ax.legend()\n",
    "fig.tight_layout()\n",
    "plt.show()\n"
   ]
  },
  {
   "cell_type": "markdown",
   "metadata": {},
   "source": [
    "## Social class vs Survival"
   ]
  },
  {
   "cell_type": "code",
   "execution_count": 14,
   "metadata": {},
   "outputs": [],
   "source": [
    "# the last [\"EMbarked is just to take any of the count number\"]\n",
    "social_1_s = df[(df['Pclass']==1) & (df['Survived']==1)]['Embarked'].count()\n",
    "social_2_s = df[(df['Pclass']==2) & (df['Survived']==1)]['Embarked'].count()\n",
    "social_3_s = df[(df['Pclass']==3) & (df['Survived']==1)]['Embarked'].count()\n",
    "social_1_d = df[(df['Pclass']==1) & (df['Survived']==0)]['Embarked'].count()\n",
    "social_2_d = df[(df['Pclass']==2) & (df['Survived']==0)]['Embarked'].count()\n",
    "social_3_d = df[(df['Pclass']==3) & (df['Survived']==0)]['Embarked'].count()\n"
   ]
  },
  {
   "cell_type": "code",
   "execution_count": 15,
   "metadata": {},
   "outputs": [
    {
     "data": {
      "image/png": "[encoded data removed]",
      "text/plain": [
       "<Figure size 720x360 with 1 Axes>"
      ]
     },
     "metadata": {
      "needs_background": "light"
     },
     "output_type": "display_data"
    }
   ],
   "source": [
    "n_groups = 3\n",
    "fig, ax = plt.subplots(figsize=(10, 5))\n",
    "index = np.arange(n_groups)\n",
    "bar_width = 0.2\n",
    "opacity = 0.4\n",
    "error_config = {'ecolor': '0.3'}\n",
    "\n",
    "a = (social_1_s,social_2_s,social_3_s)\n",
    "b = (social_1_d,social_2_d,social_3_d)\n",
    "rects1 = ax.bar(index, a, bar_width, bottom=None,\n",
    "                alpha=opacity, color='#05821e',\n",
    "                error_kw=error_config,\n",
    "                label='Survive')\n",
    "rects2 = ax.bar(index+bar_width,b, bar_width,bottom=None,\n",
    "                alpha=opacity, color='#ba210d',\n",
    "                error_kw=error_config,\n",
    "                label=\"Didn't make it\")\n",
    "\n",
    "ax.set_xlabel('Social Class')\n",
    "ax.set_ylabel('Count')\n",
    "ax.set_title('Count of Survival by social class')\n",
    "ax.set_xticks(index + bar_width/2)\n",
    "ax.set_xticklabels(('Upper class','Middle class','Lower class'),fontsize=12)\n",
    "ax.legend()\n",
    "fig.tight_layout()\n",
    "plt.show()"
   ]
  },
  {
   "cell_type": "code",
   "execution_count": null,
   "metadata": {},
   "outputs": [],
   "source": []
  },
  {
   "cell_type": "code",
   "execution_count": null,
   "metadata": {},
   "outputs": [],
   "source": []
  },
  {
   "cell_type": "markdown",
   "metadata": {},
   "source": [
    "# Time to train our AI Models\n",
    "\n",
    "================================================================\n",
    "\n",
    "================================================================\n",
    "\n",
    "================================================================\n",
    "\n",
    "================================================================\n",
    "\n",
    "================================================================"
   ]
  },
  {
   "cell_type": "markdown",
   "metadata": {},
   "source": [
    "Preparing the training data"
   ]
  },
  {
   "cell_type": "code",
   "execution_count": 16,
   "metadata": {},
   "outputs": [],
   "source": [
    "x = df.drop([\"Survived\"],axis=1)\n",
    "y = df[\"Survived\"]\n",
    "\n",
    "# The below is used to split a df into test and train sets.\n",
    "x_train, x_test, y_train, y_test = train_test_split(x,y, test_size= 0.25, random_state=27)\n"
   ]
  },
  {
   "cell_type": "code",
   "execution_count": 17,
   "metadata": {},
   "outputs": [],
   "source": [
    "def train_model(x_train,y_train,layer_shape,optimizer):\n",
    "    # layer shape is in a python list [20,20,20]\n",
    "    #solver options => solver : {‘lbfgs’, ‘sgd’, ‘adam’}, default ‘adam’\n",
    "    model = MLPClassifier(hidden_layer_sizes=(layer_shape), max_iter=6000, alpha=0.000000001,\n",
    "                         solver=optimizer, verbose=False,random_state=21,tol=0.000000001,learning_rate=\"adaptive\")\n",
    "    model.fit(x_train, y_train)\n",
    "    return model"
   ]
  },
  {
   "cell_type": "code",
   "execution_count": 18,
   "metadata": {},
   "outputs": [],
   "source": [
    "\n",
    "#optimizer options => solver : {‘lbfgs’, ‘sgd’, ‘adam’}, default ‘adam’ for MLPClassifier and regressor\n",
    "optimizer = 'adam'\n",
    "layer_shape = [39,39]\n",
    "model = train_model(x_train,y_train,layer_shape,optimizer)\n",
    "y_pred = model.predict(x_test)"
   ]
  },
  {
   "cell_type": "markdown",
   "metadata": {},
   "source": [
    "Check accuracy of model"
   ]
  },
  {
   "cell_type": "code",
   "execution_count": 19,
   "metadata": {},
   "outputs": [
    {
     "data": {
      "text/plain": [
       "0.8426966292134831"
      ]
     },
     "execution_count": 19,
     "metadata": {},
     "output_type": "execute_result"
    }
   ],
   "source": [
    "## accuracy_score(y_true, y_pred, normalize=True, sample_weight=None)\n",
    "accuracy_score(y_test,y_pred)"
   ]
  },
  {
   "cell_type": "markdown",
   "metadata": {},
   "source": [
    "### Optimizing for a better accuracy\n",
    "We can then try to increase put accuracy by playing around with the neural network\n",
    "\n",
    "try\n",
    "\n",
    "20 x 20 x 20\n",
    "or any other cominations of layer sizes"
   ]
  },
  {
   "cell_type": "code",
   "execution_count": 20,
   "metadata": {
    "scrolled": true
   },
   "outputs": [],
   "source": [
    "def accuracy_optimizer(x_train,y_train,layer_shapes_to_test,optimizer,verbose=False):\n",
    "    print(\"Finding Best accuracy layer shape\")\n",
    "    max_acc = 0\n",
    "    for i,layer_shape in enumerate(layer_shapes_to_test):\n",
    "        layer_shape = layer_shape\n",
    "        model = train_model(x_train,y_train,layer_shape,optimizer)\n",
    "        y_pred = model.predict(x_test)\n",
    "        ## accuracy_score(y_true, y_pred, normalize=True, sample_weight=None)\n",
    "        accuracy = accuracy_score(y_test,y_pred)\n",
    "        if verbose == True:\n",
    "            print(\"The Hidden Layer shape\",layer_shape,\"has accuracy of\",accuracy)\n",
    "        if i==0:\n",
    "            max_acc = accuracy\n",
    "            max_acc_shape = layer_shape\n",
    "        elif accuracy > max_acc:\n",
    "            max_acc = accuracy\n",
    "            max_acc_shape = layer_shape\n",
    "    print(max_acc,max_acc_shape)\n",
    "    f = open(\"max_accuracy.txt\", \"w\")\n",
    "    write_str = str(max_acc)+ \":::\" +str(max_acc_shape)\n",
    "    f.write(write_str)\n",
    "    \n",
    "\n",
    "#layer_shapes_to_test = [[20],[20,20],[10],[10,10]]\n",
    "layer_shapes_to_test = []\n",
    "for i in range(20,41):\n",
    "    for j in range(20,41):\n",
    "        layer_shapes_to_test.append([i,j])\n",
    "#accuracy_optimizer(x_train,y_train,layer_shapes_to_test,optimizer,True)"
   ]
  },
  {
   "cell_type": "code",
   "execution_count": 21,
   "metadata": {},
   "outputs": [
    {
     "data": {
      "text/html": [
       "<div>\n",
       "<style scoped>\n",
       "    .dataframe tbody tr th:only-of-type {\n",
       "        vertical-align: middle;\n",
       "    }\n",
       "\n",
       "    .dataframe tbody tr th {\n",
       "        vertical-align: top;\n",
       "    }\n",
       "\n",
       "    .dataframe thead th {\n",
       "        text-align: right;\n",
       "    }\n",
       "</style>\n",
       "<table border=\"1\" class=\"dataframe\">\n",
       "  <thead>\n",
       "    <tr style=\"text-align: right;\">\n",
       "      <th></th>\n",
       "      <th>Pclass</th>\n",
       "      <th>Sex</th>\n",
       "      <th>SibSp</th>\n",
       "      <th>Parch</th>\n",
       "      <th>Fare</th>\n",
       "      <th>Embarked</th>\n",
       "      <th>Age</th>\n",
       "    </tr>\n",
       "  </thead>\n",
       "  <tbody>\n",
       "    <tr>\n",
       "      <th>10</th>\n",
       "      <td>3</td>\n",
       "      <td>0</td>\n",
       "      <td>0</td>\n",
       "      <td>0</td>\n",
       "      <td>7.8958</td>\n",
       "      <td>0</td>\n",
       "      <td>29</td>\n",
       "    </tr>\n",
       "    <tr>\n",
       "      <th>22</th>\n",
       "      <td>1</td>\n",
       "      <td>1</td>\n",
       "      <td>0</td>\n",
       "      <td>0</td>\n",
       "      <td>31.6833</td>\n",
       "      <td>0</td>\n",
       "      <td>40</td>\n",
       "    </tr>\n",
       "    <tr>\n",
       "      <th>29</th>\n",
       "      <td>3</td>\n",
       "      <td>0</td>\n",
       "      <td>2</td>\n",
       "      <td>0</td>\n",
       "      <td>21.6792</td>\n",
       "      <td>1</td>\n",
       "      <td>21</td>\n",
       "    </tr>\n",
       "    <tr>\n",
       "      <th>33</th>\n",
       "      <td>3</td>\n",
       "      <td>1</td>\n",
       "      <td>1</td>\n",
       "      <td>2</td>\n",
       "      <td>23.4500</td>\n",
       "      <td>0</td>\n",
       "      <td>16</td>\n",
       "    </tr>\n",
       "    <tr>\n",
       "      <th>36</th>\n",
       "      <td>3</td>\n",
       "      <td>1</td>\n",
       "      <td>0</td>\n",
       "      <td>0</td>\n",
       "      <td>8.0500</td>\n",
       "      <td>0</td>\n",
       "      <td>24</td>\n",
       "    </tr>\n",
       "  </tbody>\n",
       "</table>\n",
       "</div>"
      ],
      "text/plain": [
       "    Pclass  Sex  SibSp  Parch     Fare  Embarked  Age\n",
       "10       3    0      0      0   7.8958         0   29\n",
       "22       1    1      0      0  31.6833         0   40\n",
       "29       3    0      2      0  21.6792         1   21\n",
       "33       3    1      1      2  23.4500         0   16\n",
       "36       3    1      0      0   8.0500         0   24"
      ]
     },
     "execution_count": 21,
     "metadata": {},
     "output_type": "execute_result"
    }
   ],
   "source": [
    "import random\n",
    "# to use on the prediction, not testing accuracy\n",
    "test_df_full= pd.read_csv('test.csv')\n",
    "test_df = test_df_full.drop([\"PassengerId\",\"Name\",\"Cabin\",\"Ticket\"],axis=1)\n",
    "## check for NaN values with test_df[\"Embarked\"].isnull().values.any()\n",
    "## Age and Fare are missing some values.\n",
    "## We will use a random number between standard variation and mean to fill the NaN values\n",
    "test_df['Sex'].replace('male',0,inplace=True)\n",
    "test_df['Sex'].replace('female',1,inplace=True)\n",
    "test_df['Embarked'].replace('S',0,inplace=True)\n",
    "test_df['Embarked'].replace('C',1,inplace=True)\n",
    "test_df['Embarked'].replace('Q',1,inplace=True)\n",
    "\n",
    "## Fill Fare\n",
    "mean_fare = test_df[\"Fare\"].mean() # \n",
    "#standard deviation\n",
    "std_fare = test_df[\"Fare\"].std() # around 14\n",
    "# replace empty age with rando between mean and standard deviation\n",
    "test_df['Fare'].fillna(random.uniform(std_fare,mean_fare), inplace=True)\n",
    "\n",
    "age_df = test_df[test_df[\"Age\"].isnull()]\n",
    "#age_df.head()\n",
    "age_df =age_df.drop([\"Age\"],axis=1)\n",
    "age_pred = age_cleaning_model.predict(age_df).astype(int)\n",
    "# put predictions back into age_df\n",
    "age_df[\"Age\"] = age_pred\n",
    "age_df.head()"
   ]
  },
  {
   "cell_type": "code",
   "execution_count": 22,
   "metadata": {},
   "outputs": [
    {
     "data": {
      "text/plain": [
       "False"
      ]
     },
     "execution_count": 22,
     "metadata": {},
     "output_type": "execute_result"
    }
   ],
   "source": [
    "test_df.update(age_df)\n",
    "test_df.isnull().values.any()"
   ]
  },
  {
   "cell_type": "code",
   "execution_count": 23,
   "metadata": {},
   "outputs": [],
   "source": [
    "test_pred = model.predict(test_df)"
   ]
  },
  {
   "cell_type": "code",
   "execution_count": 24,
   "metadata": {},
   "outputs": [],
   "source": [
    "test_df[\"Survived\"]=test_pred\n",
    "test_df[\"PassengerId\"] = test_df_full[\"PassengerId\"]"
   ]
  },
  {
   "cell_type": "code",
   "execution_count": 25,
   "metadata": {},
   "outputs": [
    {
     "data": {
      "text/html": [
       "<div>\n",
       "<style scoped>\n",
       "    .dataframe tbody tr th:only-of-type {\n",
       "        vertical-align: middle;\n",
       "    }\n",
       "\n",
       "    .dataframe tbody tr th {\n",
       "        vertical-align: top;\n",
       "    }\n",
       "\n",
       "    .dataframe thead th {\n",
       "        text-align: right;\n",
       "    }\n",
       "</style>\n",
       "<table border=\"1\" class=\"dataframe\">\n",
       "  <thead>\n",
       "    <tr style=\"text-align: right;\">\n",
       "      <th></th>\n",
       "      <th>Pclass</th>\n",
       "      <th>Sex</th>\n",
       "      <th>Age</th>\n",
       "      <th>SibSp</th>\n",
       "      <th>Parch</th>\n",
       "      <th>Fare</th>\n",
       "      <th>Embarked</th>\n",
       "      <th>Survived</th>\n",
       "      <th>PassengerId</th>\n",
       "    </tr>\n",
       "  </thead>\n",
       "  <tbody>\n",
       "    <tr>\n",
       "      <th>0</th>\n",
       "      <td>3.0</td>\n",
       "      <td>0.0</td>\n",
       "      <td>34.5</td>\n",
       "      <td>0.0</td>\n",
       "      <td>0.0</td>\n",
       "      <td>7.8292</td>\n",
       "      <td>1.0</td>\n",
       "      <td>0</td>\n",
       "      <td>892</td>\n",
       "    </tr>\n",
       "    <tr>\n",
       "      <th>1</th>\n",
       "      <td>3.0</td>\n",
       "      <td>1.0</td>\n",
       "      <td>47.0</td>\n",
       "      <td>1.0</td>\n",
       "      <td>0.0</td>\n",
       "      <td>7.0000</td>\n",
       "      <td>0.0</td>\n",
       "      <td>0</td>\n",
       "      <td>893</td>\n",
       "    </tr>\n",
       "    <tr>\n",
       "      <th>2</th>\n",
       "      <td>2.0</td>\n",
       "      <td>0.0</td>\n",
       "      <td>62.0</td>\n",
       "      <td>0.0</td>\n",
       "      <td>0.0</td>\n",
       "      <td>9.6875</td>\n",
       "      <td>1.0</td>\n",
       "      <td>0</td>\n",
       "      <td>894</td>\n",
       "    </tr>\n",
       "    <tr>\n",
       "      <th>3</th>\n",
       "      <td>3.0</td>\n",
       "      <td>0.0</td>\n",
       "      <td>27.0</td>\n",
       "      <td>0.0</td>\n",
       "      <td>0.0</td>\n",
       "      <td>8.6625</td>\n",
       "      <td>0.0</td>\n",
       "      <td>0</td>\n",
       "      <td>895</td>\n",
       "    </tr>\n",
       "    <tr>\n",
       "      <th>4</th>\n",
       "      <td>3.0</td>\n",
       "      <td>1.0</td>\n",
       "      <td>22.0</td>\n",
       "      <td>1.0</td>\n",
       "      <td>1.0</td>\n",
       "      <td>12.2875</td>\n",
       "      <td>0.0</td>\n",
       "      <td>1</td>\n",
       "      <td>896</td>\n",
       "    </tr>\n",
       "  </tbody>\n",
       "</table>\n",
       "</div>"
      ],
      "text/plain": [
       "   Pclass  Sex   Age  SibSp  Parch     Fare  Embarked  Survived  PassengerId\n",
       "0     3.0  0.0  34.5    0.0    0.0   7.8292       1.0         0          892\n",
       "1     3.0  1.0  47.0    1.0    0.0   7.0000       0.0         0          893\n",
       "2     2.0  0.0  62.0    0.0    0.0   9.6875       1.0         0          894\n",
       "3     3.0  0.0  27.0    0.0    0.0   8.6625       0.0         0          895\n",
       "4     3.0  1.0  22.0    1.0    1.0  12.2875       0.0         1          896"
      ]
     },
     "execution_count": 25,
     "metadata": {},
     "output_type": "execute_result"
    }
   ],
   "source": [
    "test_df.head()"
   ]
  },
  {
   "cell_type": "code",
   "execution_count": 26,
   "metadata": {},
   "outputs": [],
   "source": [
    "test_df = test_df.drop([\"Pclass\",\"Sex\",\"Age\",\"SibSp\",\"Parch\",\"Fare\",\"Embarked\"],axis=1)\n"
   ]
  },
  {
   "cell_type": "code",
   "execution_count": 27,
   "metadata": {},
   "outputs": [
    {
     "data": {
      "text/html": [
       "<div>\n",
       "<style scoped>\n",
       "    .dataframe tbody tr th:only-of-type {\n",
       "        vertical-align: middle;\n",
       "    }\n",
       "\n",
       "    .dataframe tbody tr th {\n",
       "        vertical-align: top;\n",
       "    }\n",
       "\n",
       "    .dataframe thead th {\n",
       "        text-align: right;\n",
       "    }\n",
       "</style>\n",
       "<table border=\"1\" class=\"dataframe\">\n",
       "  <thead>\n",
       "    <tr style=\"text-align: right;\">\n",
       "      <th></th>\n",
       "      <th>Survived</th>\n",
       "      <th>PassengerId</th>\n",
       "    </tr>\n",
       "  </thead>\n",
       "  <tbody>\n",
       "    <tr>\n",
       "      <th>0</th>\n",
       "      <td>0</td>\n",
       "      <td>892</td>\n",
       "    </tr>\n",
       "    <tr>\n",
       "      <th>1</th>\n",
       "      <td>0</td>\n",
       "      <td>893</td>\n",
       "    </tr>\n",
       "    <tr>\n",
       "      <th>2</th>\n",
       "      <td>0</td>\n",
       "      <td>894</td>\n",
       "    </tr>\n",
       "    <tr>\n",
       "      <th>3</th>\n",
       "      <td>0</td>\n",
       "      <td>895</td>\n",
       "    </tr>\n",
       "    <tr>\n",
       "      <th>4</th>\n",
       "      <td>1</td>\n",
       "      <td>896</td>\n",
       "    </tr>\n",
       "  </tbody>\n",
       "</table>\n",
       "</div>"
      ],
      "text/plain": [
       "   Survived  PassengerId\n",
       "0         0          892\n",
       "1         0          893\n",
       "2         0          894\n",
       "3         0          895\n",
       "4         1          896"
      ]
     },
     "execution_count": 27,
     "metadata": {},
     "output_type": "execute_result"
    }
   ],
   "source": [
    "test_df.head()"
   ]
  },
  {
   "cell_type": "code",
   "execution_count": 28,
   "metadata": {},
   "outputs": [],
   "source": [
    "test_df.to_csv('titanic_sklearn_testpredictions_predicted_age_values.csv', index=False)"
   ]
  },
  {
   "cell_type": "code",
   "execution_count": null,
   "metadata": {},
   "outputs": [],
   "source": []
  }
 ],
 "metadata": {
  "kernelspec": {
   "display_name": "Python 3",
   "language": "python",
   "name": "python3"
  },
  "language_info": {
   "codemirror_mode": {
    "name": "ipython",
    "version": 3
   },
   "file_extension": ".py",
   "mimetype": "text/x-python",
   "name": "python",
   "nbconvert_exporter": "python",
   "pygments_lexer": "ipython3",
   "version": "3.5.2"
  }
 },
 "nbformat": 4,
 "nbformat_minor": 2
}
